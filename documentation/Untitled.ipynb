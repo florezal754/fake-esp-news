{
 "cells": [
  {
   "cell_type": "code",
   "execution_count": 35,
   "id": "e03d3d2c",
   "metadata": {},
   "outputs": [
    {
     "data": {
      "text/plain": [
       "0       True\n",
       "1       True\n",
       "2       True\n",
       "3       True\n",
       "4       True\n",
       "        ... \n",
       "1995    True\n",
       "1996    True\n",
       "1997    True\n",
       "1998    True\n",
       "1999    True\n",
       "Name: class, Length: 2000, dtype: bool"
      ]
     },
     "execution_count": 35,
     "metadata": {},
     "output_type": "execute_result"
    }
   ],
   "source": [
    "import pandas as pd\n",
    "\n",
    "noticias = pd.read_csv('fakes1000.csv',encoding=\"UTF-8\")\n",
    "noticias['class'].replace({FALSE: 1,'TRUE': 0},inplace=False)"
   ]
  },
  {
   "cell_type": "code",
   "execution_count": 37,
   "id": "4100479a",
   "metadata": {},
   "outputs": [],
   "source": [
    "noticias.to_csv(r'C:\\Users\\Admin\\Desktop\\Dataset\\dataset.csv', sep=',')"
   ]
  },
  {
   "cell_type": "code",
   "execution_count": null,
   "id": "c3494067",
   "metadata": {},
   "outputs": [],
   "source": []
  }
 ],
 "metadata": {
  "kernelspec": {
   "display_name": "Python 3",
   "language": "python",
   "name": "python3"
  },
  "language_info": {
   "codemirror_mode": {
    "name": "ipython",
    "version": 3
   },
   "file_extension": ".py",
   "mimetype": "text/x-python",
   "name": "python",
   "nbconvert_exporter": "python",
   "pygments_lexer": "ipython3",
   "version": "3.8.8"
  }
 },
 "nbformat": 4,
 "nbformat_minor": 5
}
