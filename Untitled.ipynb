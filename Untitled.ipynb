{
 "cells": [
  {
   "cell_type": "code",
   "execution_count": 27,
   "id": "f4e30eb5",
   "metadata": {},
   "outputs": [
    {
     "name": "stdout",
     "output_type": "stream",
     "text": [
      "0.8044619422572179\n",
      "[1]\n",
      "[[0.00258574 0.99741426]]\n"
     ]
    }
   ],
   "source": [
    "import pandas as pd\n",
    "from sklearn.feature_extraction.text import CountVectorizer\n",
    "from sklearn.naive_bayes import MultinomialNB\n",
    "from pylab import *\n",
    "from sklearn.model_selection import train_test_split\n",
    "from joblib import dump, load\n",
    "\n",
    "Dataset = pd.read_csv('.\\\\api\\\\Dataset.csv', encoding=\"UTF-8\")\n",
    "\n",
    "train, test = train_test_split(Dataset, test_size = 0.3)\n",
    "\n",
    "datosTrainX = train['texto']\n",
    "datosTrainY = train['clase']\n",
    "\n",
    "datosTestX = test ['texto']\n",
    "datosTestY = test ['clase']\n",
    "\n",
    "vectorizer = CountVectorizer()\n",
    "counts = vectorizer.fit_transform(datosTrainX.values)\n",
    "classifier = MultinomialNB()\n",
    "targets = datosTrainY.values\n",
    "\n",
    "classifier.fit(counts, targets)\n",
    "\n",
    "#dump((classifier,vectorizer), 'clasificador.joblib') \n",
    "\n",
    "example_counts = vectorizer.transform(datosTestX)\n",
    "\n",
    "print(classifier.score(example_counts,datosTestY))\n",
    "\n",
    "examples = [\"Hola soy Godzilla.\"]\n",
    "example_counts = vectorizer.transform(examples)\n",
    "predictions = classifier.predict(example_counts)\n",
    "confidence = classifier.predict_proba(example_counts)\n",
    "\n",
    "print(predictions)\n",
    "print(confidence)"
   ]
  },
  {
   "cell_type": "code",
   "execution_count": 19,
   "id": "d1857ed2",
   "metadata": {},
   "outputs": [],
   "source": [
    "import csv\n",
    "dic = {\"texto\":\"Hola\",\"clase\":0}\n",
    "with open('.\\\\api\\\\prueba.csv', 'a', newline='\\n') as f:\n",
    "    f.write(dic['texto'])\n",
    "    f.write(',')\n",
    "    f.write(str(dic['clase']))\n",
    "\n"
   ]
  },
  {
   "cell_type": "code",
   "execution_count": 23,
   "id": "8955a348",
   "metadata": {},
   "outputs": [
    {
     "name": "stdout",
     "output_type": "stream",
     "text": [
      "0        Algunas de las voces extremistas más conocida...\n",
      "1        Después de casi dos años y medio de luchas po...\n",
      "2        Dos periodistas birmanos de la agencia Reuter...\n",
      "3        El Cuerpo Nacional de Policía ha detenido a c...\n",
      "4        El desfile de la firma en Roma se convierte e...\n",
      "                              ...                        \n",
      "2534    La Seguridad Social empieza a dar turnos para ...\n",
      "2535    \"El mejor lugar para observar estrellas fugace...\n",
      "2536    La Comisión Económica para América Latina y el...\n",
      "2537    \"Pero desde mediados de octubre he notado la p...\n",
      "2538                                                tera \n",
      "Name: texto, Length: 2539, dtype: object\n",
      "0       0\n",
      "1       0\n",
      "2       0\n",
      "3       0\n",
      "4       0\n",
      "       ..\n",
      "2534    1\n",
      "2535    1\n",
      "2536    0\n",
      "2537    1\n",
      "2538    0\n",
      "Name: clase, Length: 2539, dtype: int64\n",
      "{0: 1306, 1: 1233}\n",
      "dict_keys([0, 1])\n"
     ]
    }
   ],
   "source": [
    "import pandas as pd\n",
    "import numpy as np\n",
    "import matplotlib.pyplot as plt\n",
    "from sklearn.feature_extraction.text import CountVectorizer\n",
    "from sklearn.naive_bayes import MultinomialNB\n",
    "Dataset = pd.read_csv('C:/Users/Admin/Desktop/Proyecto/fake-esp-news/api/prueba.csv', encoding=\"UTF-8\")\n",
    "    \n",
    "datosX = Dataset['texto']\n",
    "datosY = Dataset['clase']\n",
    "print(datosX)\n",
    "print(datosY)\n",
    "vector = CountVectorizer()\n",
    "counts = vector.fit_transform(datosX.values)\n",
    "classificador = MultinomialNB()\n",
    "targets = datosY.values\n",
    "classificador.fit(counts, targets)\n",
    "\n",
    "examples = [\"Hola soy Godzilla.\"]\n",
    "example_counts = vector.transform(examples)\n",
    "prediccion = classificador.predict(example_counts)\n",
    "confianza = classificador.predict_proba(example_counts)\n",
    "\n"
   ]
  },
  {
   "cell_type": "code",
   "execution_count": 79,
   "id": "84c02641",
   "metadata": {},
   "outputs": [
    {
     "data": {
      "image/png": "[encoded data removed]",
      "text/plain": [
       "<Figure size 432x288 with 1 Axes>"
      ]
     },
     "metadata": {
      "needs_background": "light"
     },
     "output_type": "display_data"
    }
   ],
   "source": [
    "Dataset = pd.read_csv('C:/Users/Admin/Desktop/Proyecto/fake-esp-news/api/prueba.csv', encoding=\"UTF-8\")\n",
    "    \n",
    "datosX = Dataset['texto']\n",
    "datosY = Dataset['clase']\n",
    "datos = np.array(datosY)\n",
    "count = len(datos)\n",
    "unique, counts = np.unique(datos, return_counts=True)\n",
    "dic = dict(zip(unique, counts))\n",
    "plt.bar(['0','1'], [dic[0],dic[1]], color=['g','r'],tick_label=['0 - Noticias Verdaderas','1 - Noticias Falsas'])\n",
    "plt.text(-0.05,dic[0]+10,dic[0])\n",
    "plt.text(0.95,dic[1]+25,dic[1])\n",
    "plt.show()"
   ]
  },
  {
   "cell_type": "code",
   "execution_count": null,
   "id": "b2fc6fdb",
   "metadata": {},
   "outputs": [],
   "source": []
  },
  {
   "cell_type": "code",
   "execution_count": null,
   "id": "d4c38645",
   "metadata": {},
   "outputs": [],
   "source": []
  }
 ],
 "metadata": {
  "kernelspec": {
   "display_name": "Python 3",
   "language": "python",
   "name": "python3"
  },
  "language_info": {
   "codemirror_mode": {
    "name": "ipython",
    "version": 3
   },
   "file_extension": ".py",
   "mimetype": "text/x-python",
   "name": "python",
   "nbconvert_exporter": "python",
   "pygments_lexer": "ipython3",
   "version": "3.8.8"
  }
 },
 "nbformat": 4,
 "nbformat_minor": 5
}
